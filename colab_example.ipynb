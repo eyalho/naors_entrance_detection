{
  "nbformat": 4,
  "nbformat_minor": 0,
  "metadata": {
    "colab": {
      "name": "colab.ipynb",
      "provenance": [],
      "collapsed_sections": [],
      "include_colab_link": true
    },
    "kernelspec": {
      "name": "python3",
      "display_name": "Python 3"
    },
    "accelerator": "GPU"
  },
  "cells": [
    {
      "cell_type": "markdown",
      "metadata": {
        "id": "view-in-github",
        "colab_type": "text"
      },
      "source": [
        "<a href=\"https://colab.research.google.com/github/eyalho/naors_entrance_detection/blob/master/colab_example.ipynb\" target=\"_parent\"><img src=\"https://colab.research.google.com/assets/colab-badge.svg\" alt=\"Open In Colab\"/></a>"
      ]
    },
    {
      "cell_type": "code",
      "metadata": {
        "id": "CmvTEhViaxTs",
        "colab_type": "code",
        "outputId": "0137499a-2ea2-468e-c434-fd41174efac4",
        "colab": {
          "base_uri": "https://localhost:8080/",
          "height": 165
        }
      },
      "source": [
        "from google.colab import drive\n",
        "drive.mount('/content/drive/')\n",
        "\n",
        "import os\n",
        "root_path=\"/content/drive/My Drive/2020_05_11_Naor_Door\"\n",
        "if not os.path.exists(root_path):\n",
        "    os.makedirs(root_path)\n",
        "os.environ[\"ROOT_PATH\"] = root_path\n",
        "\n",
        "\n",
        "# check env variable\n",
        "!echo \"$ROOT_PATH\"\n",
        "!ls -la \"$ROOT_PATH\"\n"
      ],
      "execution_count": 1,
      "outputs": [
        {
          "output_type": "stream",
          "text": [
            "Go to this URL in a browser: https://accounts.google.com/o/oauth2/auth?client_id=947318989803-6bn6qk8qdgf4n4g3pfee6491hc0brc4i.apps.googleusercontent.com&redirect_uri=urn%3aietf%3awg%3aoauth%3a2.0%3aoob&response_type=code&scope=email%20https%3a%2f%2fwww.googleapis.com%2fauth%2fdocs.test%20https%3a%2f%2fwww.googleapis.com%2fauth%2fdrive%20https%3a%2f%2fwww.googleapis.com%2fauth%2fdrive.photos.readonly%20https%3a%2f%2fwww.googleapis.com%2fauth%2fpeopleapi.readonly\n",
            "\n",
            "Enter your authorization code:\n",
            "··········\n",
            "Mounted at /content/drive/\n",
            "/content/drive/My Drive/2020_05_11_Naor_Door\n",
            "total 0\n"
          ],
          "name": "stdout"
        }
      ]
    },
    {
      "cell_type": "code",
      "metadata": {
        "id": "XjYJe3G4_j3B",
        "colab_type": "code",
        "outputId": "f03fd26a-d8d3-472a-b2f5-ebb8a120c643",
        "colab": {
          "base_uri": "https://localhost:8080/",
          "height": 435
        }
      },
      "source": [
        "%%shell\n",
        "# install dependency\n",
        "pip install cython\n",
        "pip install -U 'git+https://github.com/cocodataset/cocoapi.git#subdirectory=PythonAPI'\n",
        "\n"
      ],
      "execution_count": 2,
      "outputs": [
        {
          "output_type": "stream",
          "text": [
            "Requirement already satisfied: cython in /usr/local/lib/python3.6/dist-packages (0.29.17)\n",
            "Collecting git+https://github.com/cocodataset/cocoapi.git#subdirectory=PythonAPI\n",
            "  Cloning https://github.com/cocodataset/cocoapi.git to /tmp/pip-req-build-mlp8h43j\n",
            "  Running command git clone -q https://github.com/cocodataset/cocoapi.git /tmp/pip-req-build-mlp8h43j\n",
            "Requirement already satisfied, skipping upgrade: setuptools>=18.0 in /usr/local/lib/python3.6/dist-packages (from pycocotools==2.0) (46.1.3)\n",
            "Requirement already satisfied, skipping upgrade: cython>=0.27.3 in /usr/local/lib/python3.6/dist-packages (from pycocotools==2.0) (0.29.17)\n",
            "Requirement already satisfied, skipping upgrade: matplotlib>=2.1.0 in /usr/local/lib/python3.6/dist-packages (from pycocotools==2.0) (3.2.1)\n",
            "Requirement already satisfied, skipping upgrade: numpy>=1.11 in /usr/local/lib/python3.6/dist-packages (from matplotlib>=2.1.0->pycocotools==2.0) (1.18.4)\n",
            "Requirement already satisfied, skipping upgrade: python-dateutil>=2.1 in /usr/local/lib/python3.6/dist-packages (from matplotlib>=2.1.0->pycocotools==2.0) (2.8.1)\n",
            "Requirement already satisfied, skipping upgrade: pyparsing!=2.0.4,!=2.1.2,!=2.1.6,>=2.0.1 in /usr/local/lib/python3.6/dist-packages (from matplotlib>=2.1.0->pycocotools==2.0) (2.4.7)\n",
            "Requirement already satisfied, skipping upgrade: kiwisolver>=1.0.1 in /usr/local/lib/python3.6/dist-packages (from matplotlib>=2.1.0->pycocotools==2.0) (1.2.0)\n",
            "Requirement already satisfied, skipping upgrade: cycler>=0.10 in /usr/local/lib/python3.6/dist-packages (from matplotlib>=2.1.0->pycocotools==2.0) (0.10.0)\n",
            "Requirement already satisfied, skipping upgrade: six>=1.5 in /usr/local/lib/python3.6/dist-packages (from python-dateutil>=2.1->matplotlib>=2.1.0->pycocotools==2.0) (1.12.0)\n",
            "Building wheels for collected packages: pycocotools\n",
            "  Building wheel for pycocotools (setup.py) ... \u001b[?25l\u001b[?25hdone\n",
            "  Created wheel for pycocotools: filename=pycocotools-2.0-cp36-cp36m-linux_x86_64.whl size=275264 sha256=cbc8cb0c9738991960929f999abc0458ef03d5cb11408d4db7116d5e3fc2c30a\n",
            "  Stored in directory: /tmp/pip-ephem-wheel-cache-xq14s9kd/wheels/90/51/41/646daf401c3bc408ff10de34ec76587a9b3ebfac8d21ca5c3a\n",
            "Successfully built pycocotools\n",
            "Installing collected packages: pycocotools\n",
            "  Found existing installation: pycocotools 2.0.0\n",
            "    Uninstalling pycocotools-2.0.0:\n",
            "      Successfully uninstalled pycocotools-2.0.0\n",
            "Successfully installed pycocotools-2.0\n"
          ],
          "name": "stdout"
        },
        {
          "output_type": "execute_result",
          "data": {
            "text/plain": [
              ""
            ]
          },
          "metadata": {
            "tags": []
          },
          "execution_count": 2
        }
      ]
    },
    {
      "cell_type": "code",
      "metadata": {
        "id": "kCAatu6oYDkS",
        "colab_type": "code",
        "outputId": "b6c91d11-de67-4a76-bbd3-e8139d8d7376",
        "colab": {
          "base_uri": "https://localhost:8080/",
          "height": 775
        }
      },
      "source": [
        "%%shell\n",
        "\n",
        "#### change manually Runtime type to GPU! ####\n",
        "##############################################\n",
        "\n",
        "cd \"$ROOT_PATH\"\n",
        "echo \"-----------\"\n",
        "echo \"my path is:\"\n",
        "realpath .\n",
        "ls -l\n",
        "echo \"-----------\"\n",
        "\n",
        "\n",
        "# clone eyals project\n",
        " git clone https://github.com/eyalho/naors_entrance_detection.git\n",
        "\n",
        "# enter the project folder\n",
        "cd naors_entrance_detection\n",
        "git pull # update to latest version\n",
        "realpath . # print full current path\n",
        "ls -l . # show list of files in current path\n",
        "\n",
        "# start train\n",
        "python trainer.py --num_epochs 5000\n",
        "\n",
        "\n",
        "\n",
        "\n"
      ],
      "execution_count": 0,
      "outputs": [
        {
          "output_type": "stream",
          "text": [
            "-----------\n",
            "my path is:\n",
            "/content/drive/My Drive/2020_05_11_Naor_Door\n",
            "total 0\n",
            "-----------\n",
            "Cloning into 'naors_entrance_detection'...\n",
            "remote: Enumerating objects: 375, done.\u001b[K\n",
            "remote: Total 375 (delta 0), reused 0 (delta 0), pack-reused 375\u001b[K\n",
            "Receiving objects: 100% (375/375), 114.88 MiB | 22.23 MiB/s, done.\n",
            "Checking out files: 100% (366/366), done.\n",
            "Already up to date.\n",
            "/content/drive/My Drive/2020_05_11_Naor_Door/naors_entrance_detection\n",
            "total 810\n",
            "-rw------- 1 root root 796062 May 11 19:01 colab.ipynb\n",
            "-rw------- 1 root root   2740 May 11 19:01 data_loader.py\n",
            "drwx------ 3 root root   4096 May 11 19:01 doors\n",
            "-rw------- 1 root root   2223 May 11 19:01 Main.py\n",
            "-rw------- 1 root root   8101 May 11 19:01 project_test.py\n",
            "-rw------- 1 root root   1042 May 11 19:01 README.md\n",
            "-rw------- 1 root root   1917 May 11 19:01 requeriments.txt\n",
            "-rw------- 1 root root   2696 May 11 19:01 runMe.py\n",
            "drwx------ 2 root root   4096 May 11 19:01 torchvision_lib\n",
            "-rw------- 1 root root   4389 May 11 19:01 trainer.py\n",
            "Downloading: \"https://download.pytorch.org/models/fasterrcnn_resnet50_fpn_coco-258fb6c6.pth\" to /root/.cache/torch/checkpoints/fasterrcnn_resnet50_fpn_coco-258fb6c6.pth\n",
            "100% 160M/160M [00:03<00:00, 55.4MB/s]\n",
            "/usr/local/lib/python3.6/dist-packages/torch/nn/functional.py:2854: UserWarning: The default behavior for interpolate/upsample with float scale_factor will change in 1.6.0 to align with other frameworks/libraries, and use scale_factor directly, instead of relying on the computed output size. If you wish to keep the old behavior, please set recompute_scale_factor=True. See the documentation of nn.Upsample for details. \n",
            "  warnings.warn(\"The default behavior for interpolate/upsample with float scale_factor will change \"\n",
            "/pytorch/torch/csrc/utils/python_arg_parser.cpp:756: UserWarning: This overload of nonzero is deprecated:\n",
            "\tnonzero(Tensor input, *, Tensor out)\n",
            "Consider using one of the following signatures instead:\n",
            "\tnonzero(Tensor input, *, bool as_tuple)\n",
            "Epoch: [0]  [  0/135]  eta: 0:08:24  lr: 0.000042  loss: 1.0062 (1.0062)  loss_classifier: 0.8628 (0.8628)  loss_box_reg: 0.0888 (0.0888)  loss_objectness: 0.0313 (0.0313)  loss_rpn_box_reg: 0.0233 (0.0233)  time: 3.7360  data: 2.4888  max mem: 2152\n",
            "Epoch: [0]  [ 10/135]  eta: 0:02:19  lr: 0.000415  loss: 0.7040 (0.6651)  loss_classifier: 0.4750 (0.4983)  loss_box_reg: 0.0508 (0.0536)  loss_objectness: 0.0323 (0.0826)  loss_rpn_box_reg: 0.0125 (0.0306)  time: 1.1179  data: 0.2377  max mem: 4448\n",
            "Epoch: [0]  [ 20/135]  eta: 0:01:53  lr: 0.000788  loss: 0.2804 (0.4579)  loss_classifier: 0.1730 (0.3265)  loss_box_reg: 0.0508 (0.0558)  loss_objectness: 0.0262 (0.0507)  loss_rpn_box_reg: 0.0128 (0.0249)  time: 0.8510  data: 0.0135  max mem: 4448\n",
            "Epoch: [0]  [ 30/135]  eta: 0:01:37  lr: 0.001161  loss: 0.2641 (0.4013)  loss_classifier: 0.1316 (0.2680)  loss_box_reg: 0.0643 (0.0597)  loss_objectness: 0.0161 (0.0422)  loss_rpn_box_reg: 0.0146 (0.0314)  time: 0.8247  data: 0.0140  max mem: 4448\n",
            "Epoch: [0]  [ 40/135]  eta: 0:01:25  lr: 0.001533  loss: 0.2288 (0.3485)  loss_classifier: 0.0774 (0.2177)  loss_box_reg: 0.0656 (0.0609)  loss_objectness: 0.0150 (0.0351)  loss_rpn_box_reg: 0.0150 (0.0348)  time: 0.7969  data: 0.0127  max mem: 4448\n",
            "Epoch: [0]  [ 50/135]  eta: 0:01:15  lr: 0.001906  loss: 0.1575 (0.3160)  loss_classifier: 0.0539 (0.1858)  loss_box_reg: 0.0584 (0.0600)  loss_objectness: 0.0098 (0.0297)  loss_rpn_box_reg: 0.0111 (0.0405)  time: 0.8163  data: 0.0121  max mem: 4448\n",
            "Epoch: [0]  [ 60/135]  eta: 0:01:04  lr: 0.002279  loss: 0.1379 (0.2879)  loss_classifier: 0.0518 (0.1636)  loss_box_reg: 0.0604 (0.0608)  loss_objectness: 0.0047 (0.0261)  loss_rpn_box_reg: 0.0105 (0.0373)  time: 0.7693  data: 0.0139  max mem: 4448\n",
            "Epoch: [0]  [ 70/135]  eta: 0:00:54  lr: 0.002652  loss: 0.1353 (0.2663)  loss_classifier: 0.0505 (0.1473)  loss_box_reg: 0.0608 (0.0607)  loss_objectness: 0.0049 (0.0234)  loss_rpn_box_reg: 0.0105 (0.0349)  time: 0.7343  data: 0.0145  max mem: 4448\n"
          ],
          "name": "stdout"
        }
      ]
    },
    {
      "cell_type": "code",
      "metadata": {
        "id": "a2LZhp8xcO5w",
        "colab_type": "code",
        "colab": {}
      },
      "source": [
        "%%shell\n",
        "\n",
        "cd \"$ROOT_PATH\"\n",
        "cd naors_entrance_detection\n",
        "\n",
        "# create new annotation file (using the trained weight)\n",
        "python runMe.py\n",
        "\n",
        "\n",
        "### maybe wont work on colab\n",
        "# test the results (based on the annotation file runMe.py create)\n",
        "python project_test.py\n"
      ],
      "execution_count": 0,
      "outputs": []
    },
    {
      "cell_type": "code",
      "metadata": {
        "id": "6ZkEFflJnsuO",
        "colab_type": "code",
        "colab": {}
      },
      "source": [
        "#!find . | grep saved_models\n",
        "!ls \"./drive/My Drive/\" #2020B/autonomous_robotics/naors_entrance_detection/saved_models\"\n",
        "\n",
        "!ls \"/content/drive/\""
      ],
      "execution_count": 0,
      "outputs": []
    }
  ]
}